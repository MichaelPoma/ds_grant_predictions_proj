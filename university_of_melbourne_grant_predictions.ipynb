{
 "cells": [
  {
   "cell_type": "markdown",
   "id": "954892ca",
   "metadata": {},
   "source": [
    "## University of Melbourne Grant Predictions"
   ]
  },
  {
   "cell_type": "code",
   "execution_count": 19,
   "id": "02dc5668",
   "metadata": {},
   "outputs": [],
   "source": [
    "# Modified Kaggle competition solution for further interpretation\n",
    "\n",
    "# Link to Kaggle competition:  https://www.kaggle.com/c/unimelb/overview\n",
    "# Link to Kaggle solution:     https://www.kaggle.com/irinana/predict-graint"
   ]
  },
  {
   "cell_type": "markdown",
   "id": "c3cbcbfa",
   "metadata": {},
   "source": [
    "### Import Libraries"
   ]
  },
  {
   "cell_type": "code",
   "execution_count": 20,
   "id": "af9fa341",
   "metadata": {},
   "outputs": [],
   "source": [
    "import pandas as pd\n",
    "import numpy as np\n",
    "import matplotlib\n",
    "from matplotlib import pyplot as plt\n",
    "from sklearn.linear_model import LogisticRegression as LR\n",
    "from sklearn.feature_extraction import DictVectorizer as DV\n",
    "matplotlib.style.use('ggplot')\n",
    "%matplotlib inline\n",
    "from sklearn.linear_model import LogisticRegression\n",
    "from sklearn.model_selection import GridSearchCV\n",
    "from sklearn.metrics import roc_auc_score\n",
    "import warnings\n",
    "warnings.filterwarnings('ignore')"
   ]
  },
  {
   "cell_type": "markdown",
   "id": "d250a96e",
   "metadata": {},
   "source": [
    "### Import Training and Test Data"
   ]
  },
  {
   "cell_type": "code",
   "execution_count": 21,
   "id": "a87eae36",
   "metadata": {},
   "outputs": [
    {
     "name": "stdout",
     "output_type": "stream",
     "text": [
      "<class 'pandas.core.frame.DataFrame'>\n",
      "RangeIndex: 8708 entries, 0 to 8707\n",
      "Columns: 252 entries, Grant.Application.ID to Unnamed: 251\n",
      "dtypes: float64(180), int64(2), object(70)\n",
      "memory usage: 16.7+ MB\n",
      "None\n"
     ]
    },
    {
     "data": {
      "text/plain": [
       "(2176, 252)"
      ]
     },
     "execution_count": 21,
     "metadata": {},
     "output_type": "execute_result"
    }
   ],
   "source": [
    "data = pd.read_csv('unimelb_training.csv')\n",
    "print(data.info())\n",
    "\n",
    "test = pd.read_csv('unimelb_test.csv')\n",
    "test.shape"
   ]
  },
  {
   "cell_type": "markdown",
   "id": "bad13b49",
   "metadata": {},
   "source": [
    "### Combine Train and Test, Drop Target Variable"
   ]
  },
  {
   "cell_type": "code",
   "execution_count": 22,
   "id": "f3b2f268",
   "metadata": {},
   "outputs": [
    {
     "name": "stdout",
     "output_type": "stream",
     "text": [
      "<class 'pandas.core.frame.DataFrame'>\n",
      "RangeIndex: 10884 entries, 0 to 10883\n",
      "Columns: 251 entries, Grant.Application.ID to Unnamed: 251\n",
      "dtypes: float64(180), int64(1), object(70)\n",
      "memory usage: 20.8+ MB\n"
     ]
    },
    {
     "data": {
      "text/html": [
       "<div>\n",
       "<style scoped>\n",
       "    .dataframe tbody tr th:only-of-type {\n",
       "        vertical-align: middle;\n",
       "    }\n",
       "\n",
       "    .dataframe tbody tr th {\n",
       "        vertical-align: top;\n",
       "    }\n",
       "\n",
       "    .dataframe thead th {\n",
       "        text-align: right;\n",
       "    }\n",
       "</style>\n",
       "<table border=\"1\" class=\"dataframe\">\n",
       "  <thead>\n",
       "    <tr style=\"text-align: right;\">\n",
       "      <th></th>\n",
       "      <th>Grant.Application.ID</th>\n",
       "      <th>Sponsor.Code</th>\n",
       "      <th>Grant.Category.Code</th>\n",
       "      <th>Contract.Value.Band...see.note.A</th>\n",
       "      <th>Start.date</th>\n",
       "      <th>RFCD.Code.1</th>\n",
       "      <th>RFCD.Percentage.1</th>\n",
       "      <th>RFCD.Code.2</th>\n",
       "      <th>RFCD.Percentage.2</th>\n",
       "      <th>RFCD.Code.3</th>\n",
       "      <th>...</th>\n",
       "      <th>Faculty.No..15</th>\n",
       "      <th>With.PHD.15</th>\n",
       "      <th>No..of.Years.in.Uni.at.Time.of.Grant.15</th>\n",
       "      <th>Number.of.Successful.Grant.15</th>\n",
       "      <th>Number.of.Unsuccessful.Grant.15</th>\n",
       "      <th>A..15</th>\n",
       "      <th>A.15</th>\n",
       "      <th>B.15</th>\n",
       "      <th>C.15</th>\n",
       "      <th>Unnamed: 251</th>\n",
       "    </tr>\n",
       "  </thead>\n",
       "  <tbody>\n",
       "    <tr>\n",
       "      <th>0</th>\n",
       "      <td>1</td>\n",
       "      <td>NaN</td>\n",
       "      <td>NaN</td>\n",
       "      <td>A</td>\n",
       "      <td>8/11/05</td>\n",
       "      <td>280199.0</td>\n",
       "      <td>100.0</td>\n",
       "      <td>0.0</td>\n",
       "      <td>0.0</td>\n",
       "      <td>0.0</td>\n",
       "      <td>...</td>\n",
       "      <td>NaN</td>\n",
       "      <td>NaN</td>\n",
       "      <td>NaN</td>\n",
       "      <td>NaN</td>\n",
       "      <td>NaN</td>\n",
       "      <td>NaN</td>\n",
       "      <td>NaN</td>\n",
       "      <td>NaN</td>\n",
       "      <td>NaN</td>\n",
       "      <td>NaN</td>\n",
       "    </tr>\n",
       "    <tr>\n",
       "      <th>1</th>\n",
       "      <td>2</td>\n",
       "      <td>2B</td>\n",
       "      <td>10A</td>\n",
       "      <td>B</td>\n",
       "      <td>11/11/05</td>\n",
       "      <td>280103.0</td>\n",
       "      <td>30.0</td>\n",
       "      <td>280106.0</td>\n",
       "      <td>30.0</td>\n",
       "      <td>280203.0</td>\n",
       "      <td>...</td>\n",
       "      <td>NaN</td>\n",
       "      <td>NaN</td>\n",
       "      <td>NaN</td>\n",
       "      <td>NaN</td>\n",
       "      <td>NaN</td>\n",
       "      <td>NaN</td>\n",
       "      <td>NaN</td>\n",
       "      <td>NaN</td>\n",
       "      <td>NaN</td>\n",
       "      <td>NaN</td>\n",
       "    </tr>\n",
       "    <tr>\n",
       "      <th>2</th>\n",
       "      <td>3</td>\n",
       "      <td>29A</td>\n",
       "      <td>10B</td>\n",
       "      <td>A</td>\n",
       "      <td>14/11/05</td>\n",
       "      <td>321004.0</td>\n",
       "      <td>60.0</td>\n",
       "      <td>321216.0</td>\n",
       "      <td>40.0</td>\n",
       "      <td>0.0</td>\n",
       "      <td>...</td>\n",
       "      <td>NaN</td>\n",
       "      <td>NaN</td>\n",
       "      <td>NaN</td>\n",
       "      <td>NaN</td>\n",
       "      <td>NaN</td>\n",
       "      <td>NaN</td>\n",
       "      <td>NaN</td>\n",
       "      <td>NaN</td>\n",
       "      <td>NaN</td>\n",
       "      <td>NaN</td>\n",
       "    </tr>\n",
       "    <tr>\n",
       "      <th>3</th>\n",
       "      <td>4</td>\n",
       "      <td>40D</td>\n",
       "      <td>10B</td>\n",
       "      <td>C</td>\n",
       "      <td>15/11/05</td>\n",
       "      <td>270602.0</td>\n",
       "      <td>50.0</td>\n",
       "      <td>320602.0</td>\n",
       "      <td>50.0</td>\n",
       "      <td>0.0</td>\n",
       "      <td>...</td>\n",
       "      <td>NaN</td>\n",
       "      <td>NaN</td>\n",
       "      <td>NaN</td>\n",
       "      <td>NaN</td>\n",
       "      <td>NaN</td>\n",
       "      <td>NaN</td>\n",
       "      <td>NaN</td>\n",
       "      <td>NaN</td>\n",
       "      <td>NaN</td>\n",
       "      <td>NaN</td>\n",
       "    </tr>\n",
       "    <tr>\n",
       "      <th>4</th>\n",
       "      <td>5</td>\n",
       "      <td>59C</td>\n",
       "      <td>10A</td>\n",
       "      <td>A</td>\n",
       "      <td>16/11/05</td>\n",
       "      <td>260500.0</td>\n",
       "      <td>34.0</td>\n",
       "      <td>280000.0</td>\n",
       "      <td>33.0</td>\n",
       "      <td>290000.0</td>\n",
       "      <td>...</td>\n",
       "      <td>NaN</td>\n",
       "      <td>NaN</td>\n",
       "      <td>NaN</td>\n",
       "      <td>NaN</td>\n",
       "      <td>NaN</td>\n",
       "      <td>NaN</td>\n",
       "      <td>NaN</td>\n",
       "      <td>NaN</td>\n",
       "      <td>NaN</td>\n",
       "      <td>NaN</td>\n",
       "    </tr>\n",
       "  </tbody>\n",
       "</table>\n",
       "<p>5 rows × 251 columns</p>\n",
       "</div>"
      ],
      "text/plain": [
       "   Grant.Application.ID Sponsor.Code Grant.Category.Code  \\\n",
       "0                     1          NaN                 NaN   \n",
       "1                     2           2B                 10A   \n",
       "2                     3          29A                 10B   \n",
       "3                     4          40D                 10B   \n",
       "4                     5          59C                 10A   \n",
       "\n",
       "  Contract.Value.Band...see.note.A Start.date  RFCD.Code.1  RFCD.Percentage.1  \\\n",
       "0                               A     8/11/05     280199.0              100.0   \n",
       "1                               B    11/11/05     280103.0               30.0   \n",
       "2                               A    14/11/05     321004.0               60.0   \n",
       "3                               C    15/11/05     270602.0               50.0   \n",
       "4                               A    16/11/05     260500.0               34.0   \n",
       "\n",
       "   RFCD.Code.2  RFCD.Percentage.2  RFCD.Code.3  ...  Faculty.No..15  \\\n",
       "0          0.0                0.0          0.0  ...             NaN   \n",
       "1     280106.0               30.0     280203.0  ...             NaN   \n",
       "2     321216.0               40.0          0.0  ...             NaN   \n",
       "3     320602.0               50.0          0.0  ...             NaN   \n",
       "4     280000.0               33.0     290000.0  ...             NaN   \n",
       "\n",
       "   With.PHD.15  No..of.Years.in.Uni.at.Time.of.Grant.15  \\\n",
       "0          NaN                                      NaN   \n",
       "1          NaN                                      NaN   \n",
       "2          NaN                                      NaN   \n",
       "3          NaN                                      NaN   \n",
       "4          NaN                                      NaN   \n",
       "\n",
       "   Number.of.Successful.Grant.15  Number.of.Unsuccessful.Grant.15  A..15  \\\n",
       "0                            NaN                              NaN    NaN   \n",
       "1                            NaN                              NaN    NaN   \n",
       "2                            NaN                              NaN    NaN   \n",
       "3                            NaN                              NaN    NaN   \n",
       "4                            NaN                              NaN    NaN   \n",
       "\n",
       "   A.15  B.15  C.15  Unnamed: 251  \n",
       "0   NaN   NaN   NaN           NaN  \n",
       "1   NaN   NaN   NaN           NaN  \n",
       "2   NaN   NaN   NaN           NaN  \n",
       "3   NaN   NaN   NaN           NaN  \n",
       "4   NaN   NaN   NaN           NaN  \n",
       "\n",
       "[5 rows x 251 columns]"
      ]
     },
     "execution_count": 22,
     "metadata": {},
     "output_type": "execute_result"
    }
   ],
   "source": [
    "X = pd.concat([data, test], ignore_index= 'True').drop('Grant.Status', 1)\n",
    "y = data['Grant.Status']\n",
    "X.info()\n",
    "\n",
    "X.head()"
   ]
  },
  {
   "cell_type": "markdown",
   "id": "1385ef57",
   "metadata": {},
   "source": [
    "### Define Categorical and Numerical Features"
   ]
  },
  {
   "cell_type": "code",
   "execution_count": 23,
   "id": "6551b466",
   "metadata": {},
   "outputs": [
    {
     "name": "stdout",
     "output_type": "stream",
     "text": [
      "(181,) (70,)\n",
      "Index(['Grant.Application.ID', 'RFCD.Code.1', 'RFCD.Percentage.1',\n",
      "       'RFCD.Code.2', 'RFCD.Percentage.2', 'RFCD.Code.3', 'RFCD.Percentage.3',\n",
      "       'RFCD.Code.4', 'RFCD.Percentage.4', 'RFCD.Code.5',\n",
      "       ...\n",
      "       'Dept.No..15', 'Faculty.No..15', 'With.PHD.15',\n",
      "       'Number.of.Successful.Grant.15', 'Number.of.Unsuccessful.Grant.15',\n",
      "       'A..15', 'A.15', 'B.15', 'C.15', 'Unnamed: 251'],\n",
      "      dtype='object', length=181)\n"
     ]
    },
    {
     "data": {
      "text/plain": [
       "False    9839\n",
       "True     1045\n",
       "Name: RFCD.Percentage.1, dtype: int64"
      ]
     },
     "execution_count": 23,
     "metadata": {},
     "output_type": "execute_result"
    }
   ],
   "source": [
    "ind,numeric_cols = X.select_dtypes(exclude=['object']).axes\n",
    "\n",
    "ind,categorical_cols = X.select_dtypes(include=['object']).axes\n",
    "\n",
    "print(numeric_cols.shape, categorical_cols.shape)\n",
    "print(numeric_cols)\n",
    "X['RFCD.Percentage.1'].isnull().value_counts()"
   ]
  },
  {
   "cell_type": "markdown",
   "id": "3d0b94dd",
   "metadata": {},
   "source": [
    "### Missing Value Imputation"
   ]
  },
  {
   "cell_type": "code",
   "execution_count": 24,
   "id": "337133c8",
   "metadata": {},
   "outputs": [
    {
     "name": "stdout",
     "output_type": "stream",
     "text": [
      "(10884, 70) (10884, 181)\n"
     ]
    }
   ],
   "source": [
    "# Fill na values with 0\n",
    "X_real_zeros = X[numeric_cols].fillna(0.0)\n",
    "\n",
    "\"\"\"X_real_mean = X[numeric_cols] \n",
    "for col in numeric_cols:\n",
    "     X_real_mean[col]=X_real_mean[col].fillna(np.mean(X_real_mean[col]))\"\"\"\n",
    "        \n",
    "X_cat = X[categorical_cols].fillna('NA').astype(str)\n",
    "print(X_cat.shape, X_real_zeros.shape)"
   ]
  },
  {
   "cell_type": "code",
   "execution_count": 25,
   "id": "1ae134fd",
   "metadata": {},
   "outputs": [
    {
     "data": {
      "text/plain": [
       "1965.0    1994\n",
       "1960.0    1911\n",
       "1970.0    1644\n",
       "1955.0    1352\n",
       "1975.0    1258\n",
       "1950.0     960\n",
       "1945.0     480\n",
       "1980.0     411\n",
       "1940.0     137\n",
       "1935.0      21\n",
       "1985.0      10\n",
       "1930.0       6\n",
       "1925.0       2\n",
       "Name: Year.of.Birth.1, dtype: int64"
      ]
     },
     "execution_count": 25,
     "metadata": {},
     "output_type": "execute_result"
    }
   ],
   "source": [
    "X['Year.of.Birth.1'].value_counts()"
   ]
  },
  {
   "cell_type": "code",
   "execution_count": 26,
   "id": "e2bad348",
   "metadata": {},
   "outputs": [
    {
     "data": {
      "text/plain": [
       "0    0.541571\n",
       "1    0.458429\n",
       "Name: Grant.Status, dtype: float64"
      ]
     },
     "execution_count": 26,
     "metadata": {},
     "output_type": "execute_result"
    }
   ],
   "source": [
    "# Percentages of grant application acceptances vs denials\n",
    "y.value_counts()/len(y)"
   ]
  },
  {
   "cell_type": "markdown",
   "id": "33d87e22",
   "metadata": {},
   "source": [
    "## Personal Manipulation / Modification"
   ]
  },
  {
   "cell_type": "code",
   "execution_count": 27,
   "id": "3a3ea2da",
   "metadata": {},
   "outputs": [
    {
     "name": "stdout",
     "output_type": "stream",
     "text": [
      "250.0\n",
      "325102.5\n"
     ]
    },
    {
     "data": {
      "image/png": "[encoded data removed]",
      "text/plain": [
       "<Figure size 432x288 with 1 Axes>"
      ]
     },
     "metadata": {
      "needs_background": "light"
     },
     "output_type": "display_data"
    }
   ],
   "source": [
    "# Remove NaN values of RVCD.Code.1. This includes value of 999999\n",
    "X_upd = X[X['RFCD.Code.1']!=999999]\n",
    "hist = plt.hist(X_upd['RFCD.Code.1'], bins=30)\n",
    "print(hist[0][15])\n",
    "print(hist[1][15])"
   ]
  },
  {
   "cell_type": "markdown",
   "id": "bc163aaa",
   "metadata": {},
   "source": [
    "Here we can see the real distribution of RFCD.Code.1 in more detail. "
   ]
  },
  {
   "cell_type": "markdown",
   "id": "a6e8ef55",
   "metadata": {},
   "source": [
    "### One-Hot Encoding"
   ]
  },
  {
   "cell_type": "code",
   "execution_count": 28,
   "id": "e2707d50",
   "metadata": {},
   "outputs": [
    {
     "name": "stdout",
     "output_type": "stream",
     "text": [
      "(10884, 1647)\n"
     ]
    }
   ],
   "source": [
    "# Encode categorical features\n",
    "encoder = DV(sparse = False)\n",
    "X_cat_oh = encoder.fit_transform(X_cat.T.to_dict().values())\n",
    "\n",
    "print (X_cat_oh.shape)"
   ]
  },
  {
   "cell_type": "code",
   "execution_count": 29,
   "id": "48e10ced",
   "metadata": {},
   "outputs": [
    {
     "data": {
      "text/plain": [
       "array([[<AxesSubplot:xlabel='Number.of.Successful.Grant.1', ylabel='Number.of.Successful.Grant.1'>,\n",
       "        <AxesSubplot:xlabel='SEO.Percentage.2', ylabel='Number.of.Successful.Grant.1'>,\n",
       "        <AxesSubplot:xlabel='Year.of.Birth.1', ylabel='Number.of.Successful.Grant.1'>],\n",
       "       [<AxesSubplot:xlabel='Number.of.Successful.Grant.1', ylabel='SEO.Percentage.2'>,\n",
       "        <AxesSubplot:xlabel='SEO.Percentage.2', ylabel='SEO.Percentage.2'>,\n",
       "        <AxesSubplot:xlabel='Year.of.Birth.1', ylabel='SEO.Percentage.2'>],\n",
       "       [<AxesSubplot:xlabel='Number.of.Successful.Grant.1', ylabel='Year.of.Birth.1'>,\n",
       "        <AxesSubplot:xlabel='SEO.Percentage.2', ylabel='Year.of.Birth.1'>,\n",
       "        <AxesSubplot:xlabel='Year.of.Birth.1', ylabel='Year.of.Birth.1'>]],\n",
       "      dtype=object)"
      ]
     },
     "execution_count": 29,
     "metadata": {},
     "output_type": "execute_result"
    },
    {
     "data": {
      "image/png": "[encoded data removed]",
      "text/plain": [
       "<Figure size 720x720 with 9 Axes>"
      ]
     },
     "metadata": {
      "needs_background": "light"
     },
     "output_type": "display_data"
    }
   ],
   "source": [
    "# Plot scatter matrix that contain own data cleaning methods, including removal of missing values\n",
    "from pandas.plotting import scatter_matrix\n",
    "list_cols = ['Number.of.Successful.Grant.1','SEO.Percentage.2','Year.of.Birth.1']\n",
    "scatter_matrix(X[list_cols], figsize=(10,10))"
   ]
  },
  {
   "cell_type": "markdown",
   "id": "1ac0b5f1",
   "metadata": {},
   "source": [
    "Here, instead of visualizing the distribution with a histogram, I used the value counts to see the distribution. This was the end of my data manipulation and cleaning."
   ]
  },
  {
   "cell_type": "markdown",
   "id": "c4b57dd0",
   "metadata": {},
   "source": [
    "### Scaling Data"
   ]
  },
  {
   "cell_type": "code",
   "execution_count": 30,
   "id": "a5109385",
   "metadata": {},
   "outputs": [],
   "source": [
    "from sklearn.preprocessing import StandardScaler\n",
    "\n",
    "scaler = StandardScaler()\n",
    "X_real_scaled = scaler.fit_transform(X_real_zeros)"
   ]
  },
  {
   "cell_type": "code",
   "execution_count": 31,
   "id": "c067f19a",
   "metadata": {},
   "outputs": [
    {
     "data": {
      "image/png": "[encoded data removed]",
      "text/plain": [
       "<Figure size 720x720 with 9 Axes>"
      ]
     },
     "metadata": {
      "needs_background": "light"
     },
     "output_type": "display_data"
    }
   ],
   "source": [
    "# Graphs for scaled data\n",
    "data_numeric_scaled = pd.DataFrame(X_real_scaled, columns=numeric_cols)\n",
    "list_cols = ['Number.of.Successful.Grant.1', 'SEO.Percentage.2', 'Year.of.Birth.1']\n",
    "scatter_matrix(data_numeric_scaled[list_cols], alpha=0.5, figsize=(10, 10))\n",
    "plt.show()"
   ]
  },
  {
   "cell_type": "markdown",
   "id": "4fbbb902",
   "metadata": {},
   "source": [
    "Now, the models need to be trained and tuned."
   ]
  },
  {
   "cell_type": "markdown",
   "id": "d7b835d8",
   "metadata": {},
   "source": [
    "### Collecting Data to Train the Model"
   ]
  },
  {
   "cell_type": "code",
   "execution_count": 32,
   "id": "64e350c1",
   "metadata": {},
   "outputs": [
    {
     "name": "stdout",
     "output_type": "stream",
     "text": [
      "<class 'pandas.core.frame.DataFrame'>\n",
      "RangeIndex: 10884 entries, 0 to 10883\n",
      "Columns: 181 entries, Grant.Application.ID to Unnamed: 251\n",
      "dtypes: float64(180), int64(1)\n",
      "memory usage: 15.0 MB\n",
      "None\n",
      "(2176, 1828)\n"
     ]
    }
   ],
   "source": [
    "test_zeros=np.hstack((X_real_zeros[8708:] , X_cat_oh[8708:]))\n",
    "X_real_zeros_cut = X_real_zeros[:8708]\n",
    "X_cat_oh_cut = X_cat_oh[:8708]\n",
    "\n",
    "print(X_real_zeros.info())\n",
    "print(test_zeros.shape)"
   ]
  },
  {
   "cell_type": "code",
   "execution_count": 33,
   "id": "2716bbaa",
   "metadata": {},
   "outputs": [
    {
     "name": "stdout",
     "output_type": "stream",
     "text": [
      "(6095, 181)\n"
     ]
    },
    {
     "data": {
      "text/plain": [
       "(6095,)"
      ]
     },
     "execution_count": 33,
     "metadata": {},
     "output_type": "execute_result"
    }
   ],
   "source": [
    "from sklearn.model_selection import train_test_split\n",
    "\n",
    "(X_train_real_zeros, X_test_real_zeros, y_train, y_test) = train_test_split(X_real_zeros_cut, y, test_size=0.3, stratify=y, random_state=0)\n",
    "(X_train_cat_oh, X_test_cat_oh) = train_test_split(X_cat_oh_cut, test_size=0.3, random_state=0, stratify=y)\n",
    "print(X_train_real_zeros.shape)\n",
    "y_train.shape"
   ]
  },
  {
   "cell_type": "code",
   "execution_count": 34,
   "id": "45afd858",
   "metadata": {},
   "outputs": [
    {
     "name": "stdout",
     "output_type": "stream",
     "text": [
      "3301\n",
      "2794\n"
     ]
    }
   ],
   "source": [
    "print(np.sum(y_train==0))\n",
    "print(np.sum(y_train==1))"
   ]
  },
  {
   "cell_type": "markdown",
   "id": "7c7dea60",
   "metadata": {},
   "source": [
    "### Parameter Tuning / Cross Validation"
   ]
  },
  {
   "cell_type": "code",
   "execution_count": 35,
   "id": "68aaef24",
   "metadata": {},
   "outputs": [
    {
     "name": "stdout",
     "output_type": "stream",
     "text": [
      "score_lasso 0.837571206018007\n",
      "param _lasso {'C': 1}\n"
     ]
    }
   ],
   "source": [
    "param_grid = {'C': [0.01, 0.05, 0.1, 0.5, 1, 5, 10]}\n",
    "\n",
    "learn_zeros=np.hstack((X_train_real_zeros,X_train_cat_oh))\n",
    "#learn_means=np.hstack((X_train_real_mean,X_train_cat_oh))\n",
    "\n",
    "estimator_lasso = LogisticRegression (solver='liblinear',  class_weight='balanced', penalty = 'l1')\n",
    "optimizer_zeros = GridSearchCV(estimator_lasso, param_grid,  cv=3, n_jobs=-1)                \n",
    "optimizer_zeros.fit(learn_zeros, y_train)\n",
    "\n",
    "#optimizer_means = GridSearchCV(estimator_lasso, param_grid,  cv=3, n_jobs=-1)                \n",
    "#optimizer_means.fit(learn_means, y_train)\n",
    "\n",
    "print('score_lasso', optimizer_zeros.best_score_)\n",
    "print('param _lasso', optimizer_zeros.best_params_)\n",
    "#print('score_zeros_Smb', optimizer_means.best_score_)"
   ]
  },
  {
   "cell_type": "markdown",
   "id": "f11b098f",
   "metadata": {},
   "source": [
    "### Plotting C Value vs Accuracy Score"
   ]
  },
  {
   "cell_type": "code",
   "execution_count": 36,
   "id": "37333729",
   "metadata": {},
   "outputs": [
    {
     "data": {
      "image/png": "[encoded data removed]",
      "text/plain": [
       "<Figure size 432x288 with 1 Axes>"
      ]
     },
     "metadata": {
      "needs_background": "light"
     },
     "output_type": "display_data"
    },
    {
     "name": "stdout",
     "output_type": "stream",
     "text": [
      "param _zeros_Smb {'C': 1}\n",
      "1828\n",
      "[[-2.48410574e-04  1.50569986e-07  4.17226909e-03 ...  0.00000000e+00\n",
      "   0.00000000e+00  0.00000000e+00]]\n"
     ]
    }
   ],
   "source": [
    "def plot_scores(optimizer):\n",
    "    scores=[]\n",
    "    for i in range(len(optimizer.cv_results_['params'])):\n",
    "        scores.append([optimizer.cv_results_['params'][i]['C'], \n",
    "                optimizer.cv_results_['mean_test_score'][i],\n",
    "                optimizer.cv_results_['std_test_score'][i]])\n",
    "    scores = np.array(scores)\n",
    "    plt.semilogx(scores[:,0], scores[:,1])\n",
    "    plt.fill_between(scores[:,0], scores[:,1]-scores[:,2], \n",
    "                                  scores[:,1]+scores[:,2], alpha=0.3)\n",
    "    plt.show()\n",
    "    print('param _zeros_Smb', optimizer.best_params_)\n",
    "\n",
    "plot_scores(optimizer_zeros)\n",
    "#plot_scores(optimizer_means)\n",
    "\n",
    "coefficients = optimizer_zeros.best_estimator_.coef_\n",
    "print(len(coefficients[0]))\n",
    "print(coefficients)"
   ]
  },
  {
   "cell_type": "markdown",
   "id": "42d4ad03",
   "metadata": {},
   "source": [
    "### Plotting Predicted Probabilities"
   ]
  },
  {
   "cell_type": "code",
   "execution_count": 37,
   "id": "797fbf78",
   "metadata": {},
   "outputs": [
    {
     "data": {
      "text/plain": [
       "(array([420., 167.,  81.,  76.,  58.,  59.,  42.,  45.,  34.,  41.,  23.,\n",
       "         33.,  30.,  23.,  24.,  28.,  25.,  25.,  28.,  30.,  20.,  26.,\n",
       "         22.,  24.,  26.,  31.,  20.,  24.,  22.,  20.,  29.,  33.,  29.,\n",
       "         22.,  36.,  34.,  40.,  37.,  35.,  25.,  25.,  31.,  26.,  19.,\n",
       "         32.,  16.,  29.,  36.,  43.,  72.]),\n",
       " array([6.19504448e-14, 2.00000000e-02, 4.00000000e-02, 6.00000000e-02,\n",
       "        8.00000000e-02, 1.00000000e-01, 1.20000000e-01, 1.40000000e-01,\n",
       "        1.60000000e-01, 1.80000000e-01, 2.00000000e-01, 2.20000000e-01,\n",
       "        2.40000000e-01, 2.60000000e-01, 2.80000000e-01, 3.00000000e-01,\n",
       "        3.20000000e-01, 3.40000000e-01, 3.60000000e-01, 3.80000000e-01,\n",
       "        4.00000000e-01, 4.20000000e-01, 4.40000000e-01, 4.60000000e-01,\n",
       "        4.80000000e-01, 5.00000000e-01, 5.20000000e-01, 5.40000000e-01,\n",
       "        5.60000000e-01, 5.80000000e-01, 6.00000000e-01, 6.20000000e-01,\n",
       "        6.40000000e-01, 6.60000000e-01, 6.80000000e-01, 7.00000000e-01,\n",
       "        7.20000000e-01, 7.40000000e-01, 7.60000000e-01, 7.80000000e-01,\n",
       "        8.00000000e-01, 8.20000000e-01, 8.40000000e-01, 8.60000000e-01,\n",
       "        8.80000000e-01, 9.00000000e-01, 9.20000000e-01, 9.40000000e-01,\n",
       "        9.60000000e-01, 9.80000000e-01, 1.00000000e+00]),\n",
       " <BarContainer object of 50 artists>)"
      ]
     },
     "execution_count": 37,
     "metadata": {},
     "output_type": "execute_result"
    },
    {
     "data": {
      "image/png": "[encoded data removed]",
      "text/plain": [
       "<Figure size 432x288 with 1 Axes>"
      ]
     },
     "metadata": {
      "needs_background": "light"
     },
     "output_type": "display_data"
    }
   ],
   "source": [
    "y_ans = optimizer_zeros.best_estimator_.predict_proba(test_zeros)[:,0]\n",
    "Y = optimizer_zeros.best_estimator_.predict_proba(test_zeros)[:,0]\n",
    "plt.hist(Y, bins=50)"
   ]
  },
  {
   "cell_type": "code",
   "execution_count": 38,
   "id": "06449aa4",
   "metadata": {},
   "outputs": [
    {
     "name": "stdout",
     "output_type": "stream",
     "text": [
      "Successful outcomes:  1410\n",
      "Unsuccessful outcomes:  766\n"
     ]
    }
   ],
   "source": [
    "y_binary = optimizer_zeros.best_estimator_.predict(test_zeros)\n",
    "pos = np.sum(y_binary)\n",
    "neg = len(y_binary) - pos\n",
    "print(\"Successful outcomes: \", pos)\n",
    "print(\"Unsuccessful outcomes: \",neg)"
   ]
  },
  {
   "cell_type": "code",
   "execution_count": null,
   "id": "e0b2fd61",
   "metadata": {},
   "outputs": [],
   "source": []
  },
  {
   "cell_type": "markdown",
   "id": "32b6e298",
   "metadata": {},
   "source": [
    "## Nutritional Label:  Attribute Weights (Recipe)\n",
    "- The recipe widget displays the attributes within the dataset that we chose to focus on and its corresponding weight or importance in the estimator.\n",
    "- Focused on Country.of.Birth.1 column and the Home.Language.1 features."
   ]
  },
  {
   "cell_type": "code",
   "execution_count": 39,
   "id": "00c69b0c",
   "metadata": {},
   "outputs": [],
   "source": [
    "# feature_names is a list of the feature names for each column in the one hot encoder\n",
    "feature_names = encoder.feature_names_\n",
    "country_indices = []\n",
    "language_indices=[]\n",
    "\n",
    "for i in range(len(feature_names)):\n",
    "  # if the first several letters in the feature correspond to this \n",
    "  if feature_names[i][:19] == \"Country.of.Birth.1=\":\n",
    "    # add the index to a list\n",
    "    country_indices+=[i]\n",
    "\n",
    "\n",
    "for i in range(len(feature_names)):\n",
    "    if feature_names[i][:15] == \"Home.Language.1\":\n",
    "        language_indices += [i]"
   ]
  },
  {
   "cell_type": "code",
   "execution_count": 40,
   "id": "5af61d29",
   "metadata": {},
   "outputs": [
    {
     "name": "stdout",
     "output_type": "stream",
     "text": [
      "0.18911486488603416\n",
      "-0.1625839047707307\n",
      "-0.027055529406358775\n",
      "0.0\n",
      "-0.06137707426297761\n",
      "0.171372891313151\n",
      "-1.2906499033135234e-06\n",
      "-9.392001868018345e-05\n",
      "8.654862739531754e-06\n",
      "-0.006171782427799475\n",
      "0.3156221370703379\n",
      "\n",
      "Total weight of Country of Birth attribute:  0.9334020496687125\n",
      "0.0\n",
      "0.0\n",
      "0.0\n",
      "0.0\n",
      "0.0\n",
      "0.0\n",
      "\n",
      "Total weight of Home Language attribute:  0.0\n"
     ]
    }
   ],
   "source": [
    "country_weight = 0\n",
    "for i in country_indices:\n",
    "    print(optimizer_zeros.best_estimator_.coef_[0][i])\n",
    "    country_weight += abs(optimizer_zeros.best_estimator_.coef_[0][i])\n",
    "print(\"\\nTotal weight of Country of Birth attribute: \", country_weight)\n",
    "\n",
    "language_weight = 0\n",
    "for i in language_indices:\n",
    "    print(optimizer_zeros.best_estimator_.coef_[0][i])\n",
    "    language_weight += abs(optimizer_zeros.best_estimator_.coef_[0][i])\n",
    "print(\"\\nTotal weight of Home Language attribute: \",language_weight)"
   ]
  },
  {
   "cell_type": "markdown",
   "id": "49f9bdfa",
   "metadata": {},
   "source": [
    "From this, we can see that the Country.of.Birth.1 attribute that we will use for all of our fairness metrics had an overall weight of 0.93 in the estimator. The Home.Language.1 attribute had a weight of 0 in the estimator. This means that the Country.of.Birth.1 column had a significant pull in the model’s estimations. However, the Home.Language.1 attribute did not."
   ]
  },
  {
   "cell_type": "markdown",
   "id": "0acb42a0",
   "metadata": {},
   "source": [
    "### Add Necessary Columns\n",
    "- GrantStatus is probability of Successful grant\n",
    "- SuccessfulGrant is whether the grant was predicted successful or not\n",
    "- NativeBirthCountry is if the person was born in New Zealand or Australia"
   ]
  },
  {
   "cell_type": "code",
   "execution_count": 41,
   "id": "04ff9149",
   "metadata": {},
   "outputs": [],
   "source": [
    "# Add the predicted probabilities to the dataset and look at results across different subpopulations\n",
    "# Compute mean Grant Status across entire datset\n",
    "\n",
    "test['GrantStatus'] = Y\n",
    "test['SuccessfulGrant'] = y_binary"
   ]
  },
  {
   "cell_type": "code",
   "execution_count": 42,
   "id": "9b20470d",
   "metadata": {},
   "outputs": [],
   "source": [
    "# Add column for privileged groups and unprivileged groups\n",
    "# Privileged is if country of birth is either australia or New Zealand\n",
    "# Unprivileged is if country of birth is outside these regions\n",
    "\n",
    "native=[]\n",
    "for i in test['Country.of.Birth.1']:\n",
    "    if i == 'Australia' or i=='New Zealand':\n",
    "        native+=[\"Native\"]\n",
    "    else:\n",
    "        native+=[\"Non-Native\"]\n",
    "test['NativeBirthCountry'] = native"
   ]
  },
  {
   "cell_type": "markdown",
   "id": "8e9a3ee5",
   "metadata": {},
   "source": [
    "### Visualize Results"
   ]
  },
  {
   "cell_type": "code",
   "execution_count": 43,
   "id": "202761c5",
   "metadata": {},
   "outputs": [
    {
     "data": {
      "image/png": "[encoded data removed]",
      "text/plain": [
       "<Figure size 432x288 with 1 Axes>"
      ]
     },
     "metadata": {
      "needs_background": "light"
     },
     "output_type": "display_data"
    },
    {
     "data": {
      "text/plain": [
       "Country.of.Birth.1\n",
       "Asia Pacific              0.363895\n",
       "Australia                 0.328424\n",
       "Eastern Europe            0.304433\n",
       "Great Britain             0.433844\n",
       "Middle East and Africa    0.292562\n",
       "New Zealand               0.539397\n",
       "North America             0.433504\n",
       "South Africa              0.445949\n",
       "The Americas              0.197699\n",
       "Western Europe            0.418052\n",
       "Name: GrantStatus, dtype: float64"
      ]
     },
     "execution_count": 43,
     "metadata": {},
     "output_type": "execute_result"
    }
   ],
   "source": [
    "plt.plot(test.groupby(\"Country.of.Birth.1\")['GrantStatus'].mean().sort_values(ascending=False), marker=\"o\", linestyle=\"solid\")\n",
    "plt.xticks(rotation=45)\n",
    "plt.xlabel('Country of Birth')\n",
    "plt.ylabel(\"Average Probability of Successful Grant\")\n",
    "plt.title(\"Average Probability of Successful Grant by Country of Birth\")\n",
    "plt.show()\n",
    "test.groupby(\"Country.of.Birth.1\")['GrantStatus'].mean()"
   ]
  },
  {
   "cell_type": "markdown",
   "id": "5b3de116",
   "metadata": {},
   "source": [
    "## Nutritional Label: Feature Summary (Ingredients)\n",
    "- Ingredients widget contained the numbers of successful grants in each of the features that we investigated: Country of Birth and Home Language."
   ]
  },
  {
   "cell_type": "code",
   "execution_count": 44,
   "id": "9b952868",
   "metadata": {},
   "outputs": [
    {
     "data": {
      "text/html": [
       "<div>\n",
       "<style scoped>\n",
       "    .dataframe tbody tr th:only-of-type {\n",
       "        vertical-align: middle;\n",
       "    }\n",
       "\n",
       "    .dataframe tbody tr th {\n",
       "        vertical-align: top;\n",
       "    }\n",
       "\n",
       "    .dataframe thead th {\n",
       "        text-align: right;\n",
       "    }\n",
       "</style>\n",
       "<table border=\"1\" class=\"dataframe\">\n",
       "  <thead>\n",
       "    <tr style=\"text-align: right;\">\n",
       "      <th></th>\n",
       "      <th>Min</th>\n",
       "      <th>Max</th>\n",
       "      <th>Mean</th>\n",
       "      <th>Median</th>\n",
       "    </tr>\n",
       "  </thead>\n",
       "  <tbody>\n",
       "    <tr>\n",
       "      <th>Birth Country</th>\n",
       "      <td>5</td>\n",
       "      <td>886</td>\n",
       "      <td>118.1</td>\n",
       "      <td>27.0</td>\n",
       "    </tr>\n",
       "    <tr>\n",
       "      <th>Home Language</th>\n",
       "      <td>26</td>\n",
       "      <td>103</td>\n",
       "      <td>64.5</td>\n",
       "      <td>64.5</td>\n",
       "    </tr>\n",
       "  </tbody>\n",
       "</table>\n",
       "</div>"
      ],
      "text/plain": [
       "               Min  Max   Mean  Median\n",
       "Birth Country    5  886  118.1    27.0\n",
       "Home Language   26  103   64.5    64.5"
      ]
     },
     "execution_count": 44,
     "metadata": {},
     "output_type": "execute_result"
    }
   ],
   "source": [
    "engdf = test.groupby(\"Home.Language.1\")['SuccessfulGrant'].sum()\n",
    "df = test.groupby(\"Country.of.Birth.1\")['SuccessfulGrant'].sum()\n",
    "\n",
    "stats = [[df.min(), df.max(), df.mean(), df.median()],\n",
    "         [engdf.min(), engdf.max(), engdf.mean(), engdf.median()]]\n",
    "cols = [\"Min\",\"Max\",\"Mean\",\"Median\"]\n",
    "pd.DataFrame(stats, columns=cols, index=[\"Birth Country\",\"Home Language\"])"
   ]
  },
  {
   "cell_type": "markdown",
   "id": "eb78c803",
   "metadata": {},
   "source": [
    "In country of birth, the max number of successful applicants for a country was 885, while the min country was 5. The median number of successful grants for a country was 27, indicating that the distribution of successful grants for countries was skewed more toward the min than the max. For the Home Language row, the max number of successful grants for a language was 103 (English), and the min number was 26 (Other). The median was 64.5."
   ]
  },
  {
   "cell_type": "markdown",
   "id": "4b00493b",
   "metadata": {},
   "source": [
    "## Nutritional Label: Robustness of Prediction Methodology (Stability)\n",
    "- Stability explains if prediction methodology is robust on dataset.\n",
    "- Reports a stability score to indicate extent of change required for predictions to change.\n",
    "- Stability is slope of line fit to probability distribution.\n",
    "- Plot the percentage of successful grants across each class in an attribute ranked, and look at the slope of the plot."
   ]
  },
  {
   "cell_type": "code",
   "execution_count": 45,
   "id": "472883e8",
   "metadata": {},
   "outputs": [
    {
     "data": {
      "image/png": "[encoded data removed]",
      "text/plain": [
       "<Figure size 432x288 with 1 Axes>"
      ]
     },
     "metadata": {
      "needs_background": "light"
     },
     "output_type": "display_data"
    },
    {
     "name": "stdout",
     "output_type": "stream",
     "text": [
      "Country.of.Birth.1\n",
      "The Americas              0.800000\n",
      "Eastern Europe            0.741935\n",
      "Middle East and Africa    0.714286\n",
      "Australia                 0.687888\n",
      "Asia Pacific              0.664122\n",
      "South Africa              0.600000\n",
      "Western Europe            0.567164\n",
      "Great Britain             0.560976\n",
      "North America             0.543860\n",
      "New Zealand               0.416667\n",
      "Name: SuccessfulGrant, dtype: float64\n",
      "Slope: -0.03654167007424031\n"
     ]
    }
   ],
   "source": [
    "# Determine stability score for Applicants predicted to receive grants based on birth country\n",
    "\n",
    "stab = test.groupby('Country.of.Birth.1')['SuccessfulGrant'].mean().sort_values(ascending=False)\n",
    "counter = []\n",
    "\n",
    "for i in range(test['Country.of.Birth.1'].nunique()):\n",
    "    counter.append(i)\n",
    "\n",
    "plt.scatter(counter, stab, color='blue')\n",
    "plt.title('Stability of Receiving Grant')\n",
    "plt.xlabel('Country Rank')\n",
    "plt.ylabel('Probability of Receiving Grants')\n",
    "plt.plot(np.unique(counter), np.poly1d(np.polyfit(counter, stab, 1))(np.unique(counter)))\n",
    "plt.show()\n",
    "print(stab)\n",
    "print(\"Slope:\", (np.polyfit(counter, stab, 1))[0])"
   ]
  },
  {
   "cell_type": "code",
   "execution_count": 46,
   "id": "e16af0a3",
   "metadata": {},
   "outputs": [
    {
     "name": "stdout",
     "output_type": "stream",
     "text": [
      "Home.Language.1\n",
      "English    0.660256\n",
      "Other      0.666667\n",
      "Name: SuccessfulGrant, dtype: float64\n"
     ]
    },
    {
     "data": {
      "image/png": "[encoded data removed]",
      "text/plain": [
       "<Figure size 432x288 with 1 Axes>"
      ]
     },
     "metadata": {
      "needs_background": "light"
     },
     "output_type": "display_data"
    },
    {
     "name": "stdout",
     "output_type": "stream",
     "text": [
      "Slope: 0.0064102564102563875\n"
     ]
    }
   ],
   "source": [
    "# Determine stability score for overall applicants based on birth country\n",
    "\n",
    "stab = test.groupby(\"Home.Language.1\")['SuccessfulGrant'].mean()\n",
    "counter = []\n",
    "\n",
    "for i in range(test['Home.Language.1'].nunique()):\n",
    "    counter.append(i)\n",
    "print(stab)\n",
    "plt.scatter(counter, stab, color='blue')\n",
    "plt.title('Stability of Language')\n",
    "plt.xlabel('Language Rank')\n",
    "plt.ylabel('Probability of Receiving Grant')\n",
    "plt.plot(np.unique(counter), np.poly1d(np.polyfit(counter, stab, 1))(np.unique(counter)))\n",
    "plt.show()\n",
    "\n",
    "print(\"Slope:\", (np.polyfit(counter, stab, 1))[0])"
   ]
  },
  {
   "cell_type": "markdown",
   "id": "1570b5ca",
   "metadata": {},
   "source": [
    "We found that the slope of each plot was not steep enough to be considered stable. This means that small changes in the data would likely have a relatively large effect on the outcomes of the model, and therefore would easily change the ranking of the countries. Hence, we found that ‘Country.of.Birth’ and ‘Home.Language’ both were not robust to minimal changes within the data."
   ]
  },
  {
   "cell_type": "markdown",
   "id": "4750a72c",
   "metadata": {},
   "source": [
    "## Nutritional Label: Diversity\n",
    "- The diversity widget of the nutritional label captures the diversity with respect to a set of categorical attributes, specifically Country of Birth and Home Language.\n",
    "- Want to see if there were disparities between the diversity of applicants predicted a successful grant compared to the entire pool of applicants, based on these two categorical attributes."
   ]
  },
  {
   "cell_type": "code",
   "execution_count": 47,
   "id": "18d95af7",
   "metadata": {},
   "outputs": [
    {
     "data": {
      "text/plain": [
       "0.7357102433503112"
      ]
     },
     "execution_count": 47,
     "metadata": {},
     "output_type": "execute_result"
    }
   ],
   "source": [
    "vc = test['Country.of.Birth.1'].value_counts()\n",
    "total = sum(vc)\n",
    "total_aus = vc['Australia'] + vc['New Zealand']\n",
    "total_aus / total"
   ]
  },
  {
   "cell_type": "code",
   "execution_count": 48,
   "id": "fdf44fc3",
   "metadata": {},
   "outputs": [
    {
     "data": {
      "image/png": "[encoded data removed]",
      "text/plain": [
       "<Figure size 432x288 with 1 Axes>"
      ]
     },
     "metadata": {},
     "output_type": "display_data"
    },
    {
     "data": {
      "image/png": "[encoded data removed]",
      "text/plain": [
       "<Figure size 432x288 with 1 Axes>"
      ]
     },
     "metadata": {},
     "output_type": "display_data"
    }
   ],
   "source": [
    "\"\"\" Determine diversty for Applicants predicted to receive grants \"\"\"\n",
    "# Based on BIRTH COUNTRY (proportion of positively predicted applicants born so and so)\n",
    "total = test.groupby('Country.of.Birth.1')['GrantStatus'].mean().sort_values(ascending=False).sum()\n",
    "countries = test.groupby('Country.of.Birth.1')['GrantStatus'].mean().sort_values(ascending=False)\n",
    "value_counts =  test['Country.of.Birth.1'].value_counts().sort_values(ascending=False)\n",
    "vals = []\n",
    "chart_labels = ['New Zealand', 'South Africa', 'Great Britain', 'North America', \n",
    "                'Western Europe', 'Asia Pacific', 'Australia', 'Eastern Europe', \n",
    "                'Middle East and Africa', 'The Americas']\n",
    "chart_colors = ['#81599F', '#0D5F8A', '#1E73BE', '#98CCFD', '#9DCC5F', \n",
    "                '#DAD870', '#FFCD58', '#FF9636', '#FF5C4D', '#F51663']\n",
    "chart_abbr = ['AU', 'APAC', 'GB', 'WE', 'NA', 'EE', 'MEA', 'Amer', 'NZ', 'SA']\n",
    "\n",
    "vals.append(value_counts[0] * countries[6])\n",
    "vals.append(value_counts[1] * countries[5])\n",
    "vals.append(value_counts[2] * countries[2])\n",
    "vals.append(value_counts[3] * countries[4])\n",
    "vals.append(value_counts[4] * countries[3])\n",
    "vals.append(value_counts[5] * countries[7])\n",
    "vals.append(value_counts[6] * countries[8])\n",
    "vals.append(value_counts[7] * countries[9])\n",
    "vals.append(value_counts[8] * countries[0])\n",
    "vals.append(value_counts[9] * countries[1])\n",
    "\n",
    "plt.pie(vals, colors=chart_colors)\n",
    "plt.title(\"Birth Country\", size=22)\n",
    "plt.legend(chart_abbr, bbox_to_anchor=(1.25, 0.5), loc='right')\n",
    "plt.show()\n",
    "\n",
    "\n",
    "# Based on LANGUAGE (proportion of positively predicted applicants who speak English vs Other)\n",
    "total = test.groupby('Home.Language.1')['GrantStatus'].mean().sort_values(ascending=False).sum()\n",
    "languages = test.groupby('Home.Language.1')['GrantStatus'].mean().sort_values(ascending=False)\n",
    "value_counts =  test['Home.Language.1'].value_counts().sort_values(ascending=False)\n",
    "vals = []\n",
    "chart_labels = ['English', 'Other']\n",
    "chart_colors = ['#98CCFD', '#3d3d3d']\n",
    "chart_abbr = ['English', 'Other']\n",
    "\n",
    "vals.append(value_counts[0] * languages[0])\n",
    "vals.append(value_counts[1] * languages[1])\n",
    "\n",
    "plt.pie(vals, colors=chart_colors)\n",
    "plt.title(\"Home Language\", size=22)\n",
    "plt.legend(chart_abbr, bbox_to_anchor=(1.25, 0.2), loc='right')\n",
    "plt.show()"
   ]
  },
  {
   "cell_type": "code",
   "execution_count": 49,
   "id": "d31ab0e3",
   "metadata": {},
   "outputs": [
    {
     "name": "stdout",
     "output_type": "stream",
     "text": [
      "Index(['Australia', 'Asia Pacific', 'Great Britain', 'Western Europe',\n",
      "       'North America', 'Eastern Europe', 'Middle East and Africa',\n",
      "       'The Americas', 'New Zealand', 'South Africa'],\n",
      "      dtype='object')\n"
     ]
    },
    {
     "data": {
      "image/png": "[encoded data removed]",
      "text/plain": [
       "<Figure size 432x288 with 1 Axes>"
      ]
     },
     "metadata": {},
     "output_type": "display_data"
    },
    {
     "data": {
      "image/png": "[encoded data removed]",
      "text/plain": [
       "<Figure size 432x288 with 1 Axes>"
      ]
     },
     "metadata": {},
     "output_type": "display_data"
    }
   ],
   "source": [
    "\"\"\" Determine diversity for Overall applicants \"\"\"\n",
    "\n",
    "# Based on BIRTH COUNTRY (proportion of applicants born so and so)\n",
    "total = test['Country.of.Birth.1'].value_counts().sort_values(ascending=False).sum()\n",
    "countries = test['Country.of.Birth.1'].value_counts().sort_values(ascending=False)\n",
    "vals = []\n",
    "chart_labels = countries.index\n",
    "chart_colors = ['#81599F', '#0D5F8A', '#1E73BE', '#98CCFD', '#9DCC5F', \n",
    "                '#DAD870', '#FFCD58', '#FF9636', '#FF5C4D', '#F51663']\n",
    "print(countries.index)\n",
    "chart_abbr = ['AU', 'APAC', 'GB', 'WE', 'NA', 'EE', 'MEA', 'Amer', 'NZ', 'SA']\n",
    "\n",
    "for i in range(len(countries)):\n",
    "    vals.append( countries[i] / total)\n",
    "\n",
    "plt.pie(vals, colors=chart_colors)\n",
    "plt.title(\"Birth Country\", size=22)\n",
    "plt.legend(chart_abbr, bbox_to_anchor=(1.25, 0.5), loc='right')\n",
    "plt.show()\n",
    "\n",
    "\n",
    "# Based on LANGUAGE (proportion of applicants who speak English vs Other)\n",
    "total = test['Home.Language.1'].value_counts().sort_values(ascending=False).sum()\n",
    "languages = test['Home.Language.1'].value_counts().sort_values(ascending=False)\n",
    "vals = []\n",
    "chart_labels = ['English', 'Other']\n",
    "chart_colors = ['#98CCFD', '#3d3d3d']\n",
    "\n",
    "for i in range(len(languages)):\n",
    "    vals.append( languages[i] / total)\n",
    "\n",
    "plt.pie(vals, colors=chart_colors)\n",
    "plt.title(\"Home Language\", size=22)\n",
    "plt.legend(chart_labels, bbox_to_anchor=(1.25, 0.2), loc='right')\n",
    "plt.show()"
   ]
  },
  {
   "cell_type": "markdown",
   "id": "88727e5c",
   "metadata": {},
   "source": [
    "Because these pie charts were nearly identical, it was clear that the model captured the diversity of applicants very well for both of different birth countries and native languages when it came to positively receiving a grant from the University of Melbourne."
   ]
  },
  {
   "cell_type": "markdown",
   "id": "32deb757",
   "metadata": {},
   "source": [
    "## Nutritional Label: Disparate Impact and Statistical Parity (Fairness)\n",
    "- The fairness widget quantified whether the outcomes exhibited disparate impact and statistical parity between groups with respect to the sensitive attributes. \n",
    "- Computed these metrics for both Country of Birth and Home Language attributes. \n",
    "- For Country of Birth, the privileged group was New Zealand/Australian (natives), and the unprivileged group was everyone else (non-natives). \n",
    "- For Home Language, the privileged group was English speakers, and the unprivileged group was other speakers."
   ]
  },
  {
   "cell_type": "code",
   "execution_count": 50,
   "id": "5bb3be65",
   "metadata": {},
   "outputs": [
    {
     "name": "stdout",
     "output_type": "stream",
     "text": [
      "NativeBirthCountry\n",
      "Native        0.685385\n",
      "Non-Native    0.592466\n",
      "Name: SuccessfulGrant, dtype: float64\n",
      "\n",
      "Total number of successful grants:  1410\n",
      "Number of successful grants belonging to unprivileged group: 519\n",
      "Number of successful grants belonging to privileged group:  891\n",
      "Disparate Impact:  0.5825\n"
     ]
    }
   ],
   "source": [
    "\"\"\" Country \"\"\"\n",
    "print(test.groupby('NativeBirthCountry')['SuccessfulGrant'].mean())\n",
    "total_c = sum(test['SuccessfulGrant'])\n",
    "df_successful_outcome = test.query('SuccessfulGrant == 1')\n",
    "\n",
    "# All instances of successful outcomes\n",
    "num_c = df_successful_outcome['NativeBirthCountry'].value_counts()['Non-Native']\n",
    "denom_c = df_successful_outcome['NativeBirthCountry'].value_counts()['Native']\n",
    "print()\n",
    "print(\"Total number of successful grants: \", total_c)\n",
    "print(\"Number of successful grants belonging to unprivileged group:\",num_c)\n",
    "print(\"Number of successful grants belonging to privileged group: \",denom_c)\n",
    "print(\"Disparate Impact: \", format((num_c/total_c) / (denom_c/total_c), \".4f\"))"
   ]
  },
  {
   "cell_type": "markdown",
   "id": "5851cdfa",
   "metadata": {},
   "source": [
    "Disparate impact of 0.58 for native born (New Zealand and Australian) vs others when looking at successful grant applications."
   ]
  },
  {
   "cell_type": "code",
   "execution_count": 51,
   "id": "c3f42c35",
   "metadata": {},
   "outputs": [
    {
     "name": "stdout",
     "output_type": "stream",
     "text": [
      "Statistical parity for Country of Birth:  0.2638\n"
     ]
    }
   ],
   "source": [
    "# privileged probability - unprivileged probability\n",
    "sp_c = (denom_c / total_c) - (num_c / total_c)\n",
    "print(\"Statistical parity for Country of Birth: \", format(sp_c, \".4f\"))"
   ]
  },
  {
   "cell_type": "markdown",
   "id": "8c5d0ebf",
   "metadata": {},
   "source": [
    "Statistical parity of 0.26 is relatively close to 0, indicating that there is some bias for applicants born in either Australia or New Zealand, but still relatively fair. "
   ]
  },
  {
   "cell_type": "code",
   "execution_count": 52,
   "id": "329a44ad",
   "metadata": {},
   "outputs": [
    {
     "name": "stdout",
     "output_type": "stream",
     "text": [
      "Home.Language.1\n",
      "Other      0.666667\n",
      "English    0.660256\n",
      "Name: SuccessfulGrant, dtype: float64\n",
      "\n",
      "Total number of successful grants with a specified language:  129\n",
      "Number Successful grants belonging to English speakers:  103\n",
      "Number Successful grants belonging to non-English speakers:  26\n",
      "Disparate Impact:  0.2524271844660194\n"
     ]
    }
   ],
   "source": [
    "\"\"\" Language \"\"\"\n",
    "print(test.groupby(\"Home.Language.1\")['SuccessfulGrant'].mean().sort_values(ascending=False))\n",
    "print()\n",
    "lang = df_successful_outcome['Home.Language.1'].value_counts()\n",
    "#34 english, 10 other\n",
    "num_l = lang['Other']\n",
    "den_l = lang['English']\n",
    "tot_l = num_l + den_l\n",
    "\n",
    "print(\"Total number of successful grants with a specified language: \",  tot_l)\n",
    "print(\"Number Successful grants belonging to English speakers: \", den_l)\n",
    "print(\"Number Successful grants belonging to non-English speakers: \", num_l)\n",
    "print(\"Disparate Impact: \", (num_l / tot_l) / (den_l / tot_l))"
   ]
  },
  {
   "cell_type": "markdown",
   "id": "fb923fbe",
   "metadata": {},
   "source": [
    "Disparate impact of 0.25 for English speakers vs non-english speakers when looking at successful grant applications. "
   ]
  },
  {
   "cell_type": "code",
   "execution_count": 53,
   "id": "08981e3b",
   "metadata": {},
   "outputs": [
    {
     "name": "stdout",
     "output_type": "stream",
     "text": [
      "Statistical parity for native language:  0.5968992248062015\n"
     ]
    }
   ],
   "source": [
    "sp_l = (den_l / tot_l) - (num_l / tot_l)\n",
    "print(\"Statistical parity for native language: \", sp_l)"
   ]
  },
  {
   "cell_type": "markdown",
   "id": "58a03da3",
   "metadata": {},
   "source": [
    "Statistical parity of 0.60 is not very close to 0. This indicates that there is bias for the privileged group. "
   ]
  }
 ],
 "metadata": {
  "kernelspec": {
   "display_name": "Python 3",
   "language": "python",
   "name": "python3"
  },
  "language_info": {
   "codemirror_mode": {
    "name": "ipython",
    "version": 3
   },
   "file_extension": ".py",
   "mimetype": "text/x-python",
   "name": "python",
   "nbconvert_exporter": "python",
   "pygments_lexer": "ipython3",
   "version": "3.8.8"
  }
 },
 "nbformat": 4,
 "nbformat_minor": 5
}
